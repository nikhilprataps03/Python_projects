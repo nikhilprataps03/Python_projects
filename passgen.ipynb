{
 "cells": [
  {
   "cell_type": "code",
   "execution_count": 1,
   "metadata": {},
   "outputs": [],
   "source": [
    "import string\n",
    "import random"
   ]
  },
  {
   "cell_type": "code",
   "execution_count": 35,
   "metadata": {},
   "outputs": [],
   "source": [
    "def gen():\n",
    "    s1=string.ascii_uppercase\n",
    "    #print(s1)\n",
    "    s2=string.ascii_lowercase\n",
    "    #print(s2)\n",
    "    s3=string.punctuation\n",
    "    #print(s3)\n",
    "    s4=string.digits\n",
    "    #print(s4)\n",
    "    \n",
    "    passlen=int(input('Enter the length of the password'))\n",
    "    \n",
    "    s=[]\n",
    "    s.extend(list(s1))\n",
    "    s.extend(list(s2))\n",
    "    s.extend(list(s3))\n",
    "    s.extend(list(s4))    \n",
    "    #print(s)\n",
    "    \n",
    "    random.shuffle(s)\n",
    "    pas=(''.join(s[0:passlen]))\n",
    "    print(pas)\n",
    "\n",
    "    "
   ]
  },
  {
   "cell_type": "code",
   "execution_count": 36,
   "metadata": {},
   "outputs": [
    {
     "name": "stdout",
     "output_type": "stream",
     "text": [
      "Enter the length of the password10\n",
      "y8E/;0?IPW\n"
     ]
    }
   ],
   "source": [
    "gen()"
   ]
  },
  {
   "cell_type": "code",
   "execution_count": null,
   "metadata": {},
   "outputs": [],
   "source": []
  }
 ],
 "metadata": {
  "kernelspec": {
   "display_name": "Python 3",
   "language": "python",
   "name": "python3"
  },
  "language_info": {
   "codemirror_mode": {
    "name": "ipython",
    "version": 3
   },
   "file_extension": ".py",
   "mimetype": "text/x-python",
   "name": "python",
   "nbconvert_exporter": "python",
   "pygments_lexer": "ipython3",
   "version": "3.7.4"
  }
 },
 "nbformat": 4,
 "nbformat_minor": 2
}
